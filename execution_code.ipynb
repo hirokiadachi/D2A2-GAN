{
 "cells": [
  {
   "cell_type": "code",
   "execution_count": null,
   "metadata": {},
   "outputs": [
    {
     "name": "stdout",
     "output_type": "stream",
     "text": [
      "Files already downloaded and verified\n",
      "[Epoch: 1 (1iterations)]\n"
     ]
    },
    {
     "name": "stderr",
     "output_type": "stream",
     "text": [
      "/root/work/Generative-Adversarial-Networks/cvpr2020/D2A2-GAN/main.py:163: UserWarning: Implicit dimension choice for softmax has been deprecated. Change the call to include dim=X as an argument.\n",
      "  real_max = torch.max(F.softmax(pred_real.view(args.batch_size, -1)).detach(), dim=1)[1]\n",
      "/root/work/Generative-Adversarial-Networks/cvpr2020/D2A2-GAN/main.py:164: UserWarning: Implicit dimension choice for softmax has been deprecated. Change the call to include dim=X as an argument.\n",
      "  fake_max = torch.max(F.softmax(pred_gen.view(args.batch_size, -1)).detach(), dim=1)[1]\n"
     ]
    },
    {
     "name": "stdout",
     "output_type": "stream",
     "text": [
      "[Epoch: 1 (101iterations)]\n",
      "[Epoch: 1 (201iterations)]\n",
      "[Epoch: 1 (301iterations)]\n",
      "[Epoch: 1 (401iterations)]\n",
      "[Epoch: 2 (501iterations)]\n",
      "[Epoch: 2 (601iterations)]\n",
      "[Epoch: 2 (701iterations)]\n",
      "[Epoch: 2 (801iterations)]\n",
      "[Epoch: 2 (901iterations)]\n"
     ]
    }
   ],
   "source": [
    "%run main.py --training_data_name cifar10 --gpu 0 1 2 3"
   ]
  },
  {
   "cell_type": "code",
   "execution_count": 1,
   "metadata": {},
   "outputs": [
    {
     "name": "stderr",
     "output_type": "stream",
     "text": [
      "  0%|          | 0/10 [00:00<?, ?it/s]/root/work/Generative-Adversarial-Networks/cvpr2020/D2A2-GAN/generating_images_for_data_augmentation.py:101: UserWarning: Implicit dimension choice for softmax has been deprecated. Change the call to include dim=X as an argument.\n",
      "  _pred = F.softmax(_pred)\n",
      "/usr/local/lib/python3.6/dist-packages/torch/nn/functional.py:2539: UserWarning: Default upsampling behavior when mode=bilinear is changed to align_corners=False since 0.4.0. Please specify align_corners=True if the old behavior is desired. See the documentation of nn.Upsample for details.\n",
      "  \"See the documentation of nn.Upsample for details.\".format(mode))\n",
      "100%|██████████| 10/10 [00:00<00:00, 102.47it/s]"
     ]
    },
    {
     "name": "stdout",
     "output_type": "stream",
     "text": [
      "Generator: result/gen\n",
      "Discriminator: result/dis\n"
     ]
    },
    {
     "name": "stderr",
     "output_type": "stream",
     "text": [
      "\n"
     ]
    }
   ],
   "source": [
    "%run generating_images_for_data_augmentation.py --training_data_name cifar10"
   ]
  },
  {
   "cell_type": "code",
   "execution_count": null,
   "metadata": {},
   "outputs": [],
   "source": []
  }
 ],
 "metadata": {
  "kernelspec": {
   "display_name": "Python 3",
   "language": "python",
   "name": "python3"
  },
  "language_info": {
   "codemirror_mode": {
    "name": "ipython",
    "version": 3
   },
   "file_extension": ".py",
   "mimetype": "text/x-python",
   "name": "python",
   "nbconvert_exporter": "python",
   "pygments_lexer": "ipython3",
   "version": "3.6.9"
  }
 },
 "nbformat": 4,
 "nbformat_minor": 4
}
